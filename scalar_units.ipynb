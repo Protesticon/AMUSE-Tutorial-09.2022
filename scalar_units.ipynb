{
 "cells": [
  {
   "cell_type": "markdown",
   "metadata": {},
   "source": [
    "AMUSE tutorial on units\n",
    "====================\n",
    "\n",
    "Here we will start up an AMUSE service in Jupyter notebook and run some example operations."
   ]
  },
  {
   "cell_type": "code",
   "execution_count": 1,
   "metadata": {},
   "outputs": [],
   "source": [
    "#Load in the amuse units module\n",
    "from amuse.units import units"
   ]
  },
  {
   "cell_type": "code",
   "execution_count": 2,
   "metadata": {},
   "outputs": [],
   "source": [
    "import os"
   ]
  },
  {
   "cell_type": "code",
   "execution_count": 3,
   "metadata": {},
   "outputs": [
    {
     "data": {
      "text/plain": [
       "'/home/kang/Documents/AMUSE-Tutorial-09.2022'"
      ]
     },
     "execution_count": 3,
     "metadata": {},
     "output_type": "execute_result"
    }
   ],
   "source": [
    "os.getcwd()"
   ]
  },
  {
   "cell_type": "code",
   "execution_count": 4,
   "metadata": {},
   "outputs": [],
   "source": [
    "# Declare some variables\n",
    "mstar = 1 | units.MSun\n",
    "rstar = 1 | units.RSun"
   ]
  },
  {
   "cell_type": "code",
   "execution_count": 5,
   "metadata": {},
   "outputs": [],
   "source": [
    "# calculate surface escape speed\n",
    "# this requires the gravitational constant to be declared\n",
    "G = 6.67e-11 | units.m**3 * units.kg**-1 * units.s**-2\n",
    "vesc = (2*G*mstar/rstar).sqrt()"
   ]
  },
  {
   "cell_type": "code",
   "execution_count": 6,
   "metadata": {},
   "outputs": [],
   "source": [
    "# aAlternative, define G units beforehand\n",
    "units_G = units.m**3 * units.kg**-1 * units.s**-2\n",
    "G = 6.67e-11 | units_G\n",
    "vesc = (2* G * mstar / rstar).sqrt()"
   ]
  },
  {
   "cell_type": "code",
   "execution_count": 7,
   "metadata": {},
   "outputs": [
    {
     "name": "stdout",
     "output_type": "stream",
     "text": [
      "The escape speed is: 1.15498917744e-05 53476144765.21653 * m * s**-1\n"
     ]
    }
   ],
   "source": [
    "print(\"The escape speed is:\", vesc)"
   ]
  },
  {
   "cell_type": "markdown",
   "metadata": {},
   "source": [
    "This looks weard, right? But it is the right answer. AMUSE will operate on \"lazy calculating\", meaning that it will only perform the actual calculation once it is explicitely asked for it.\n",
    "Not try converting the unit to something more readable."
   ]
  },
  {
   "cell_type": "code",
   "execution_count": 8,
   "metadata": {},
   "outputs": [
    {
     "name": "stdout",
     "output_type": "stream",
     "text": [
      "The escape speed is: 617.64368455 kms\n"
     ]
    }
   ],
   "source": [
    "print(\"The escape speed is:\", vesc.in_(units.kms))"
   ]
  },
  {
   "cell_type": "markdown",
   "metadata": {},
   "source": [
    "Now you have to realize, that you used the wrong value for the gravitational constant G. The values of most important constants are stored in the AMUSE framework. They can be accessed by loading in the appropriate module."
   ]
  },
  {
   "cell_type": "code",
   "execution_count": 9,
   "metadata": {},
   "outputs": [
    {
     "name": "stdout",
     "output_type": "stream",
     "text": [
      "The escape speed is: 617.841817311 kms\n"
     ]
    }
   ],
   "source": [
    "from amuse.units.constants import G\n",
    "vesc = (2*G*mstar/rstar).sqrt()\n",
    "print(\"The escape speed is:\", vesc.in_(units.kms))"
   ]
  },
  {
   "cell_type": "markdown",
   "metadata": {},
   "source": [
    "You have now calculated the escape speed from the Solar surface.\n",
    "\n",
    "Assignmnets and questions:\n",
    "---------------\n",
    "\n",
    "### Assignment 1:\n",
    "Calculate the orbital velocity of the planet Earth in orbit around the Sun.\n",
    "\n",
    "### Assignment 2:\n",
    "Calculate the escape speed of the supermassive black hole in the Galactic center from the pericenter of S2 (the star famously used to characterize the central supermassive black hole).\n",
    "\n",
    "### Question 1:\n",
    "What is the range in velocities with which you expect an asteroids to hit the Earth's surface. Assume that there are asteroids with semimajor axes between 0 and 3.5 AU (the outer edge of the asteroid belt), with eccentricities between 0 and 0.4. Note that for an elliptic orbit, the peri- and apocenter distances are $(1\\pm e)a$, and the peri- and apocenter speeds are $\\sqrt{\\frac{(1\\pm e)\\cdot GM}{(1\\mp e)a}}$. Is the acceleration due to the Earth's gravitational well important?\n",
    "\n",
    "### Question 2:\n",
    "With a photospheric effective temporature of 5772K (see [Wikipedia](https://en.wikipedia.org/wiki/Sun)), what is the Sun's luminosity?\n",
    "*note here that the Stefan-Bolzmann constant in AMUSE is available in the units.constants package under the name of Stefan_hyphen_Boltzmann_constant.*\n",
    "\n",
    "Calculate the difference with the standard in AMUSE available solar luminosity (1 | units.LSun). Whay are the two values different?\n",
    "\n",
    "If the discrepancy originates from the photospheric effective temperature from Wikipedia, what would be the correct temperature to match the Solar luminosity?"
   ]
  },
  {
   "cell_type": "markdown",
   "metadata": {},
   "source": [
    "### Assignment 1"
   ]
  },
  {
   "cell_type": "code",
   "execution_count": 10,
   "metadata": {},
   "outputs": [
    {
     "name": "stdout",
     "output_type": "stream",
     "text": [
      "The orbital volocity is 29.7884676058 km / s\n"
     ]
    }
   ],
   "source": [
    "Rearth = 1 | units.AU\n",
    "Vearth = (G * mstar / Rearth).sqrt()\n",
    "print('The orbital volocity is', Vearth.in_(units.km/units.s))"
   ]
  },
  {
   "cell_type": "markdown",
   "metadata": {},
   "source": [
    "### Assignment 2"
   ]
  },
  {
   "cell_type": "code",
   "execution_count": 11,
   "metadata": {},
   "outputs": [
    {
     "name": "stdout",
     "output_type": "stream",
     "text": [
      "The escape velocity is 7838.00946325 km / s\n"
     ]
    }
   ],
   "source": [
    "Rperi = 120 | units.AU\n",
    "MBH = 4.154 * 1e6 | units.MSun\n",
    "\n",
    "Vesc = (2* G * MBH / Rperi).sqrt()\n",
    "print('The escape velocity is', Vesc.in_(units.km/units.s))"
   ]
  },
  {
   "cell_type": "markdown",
   "metadata": {},
   "source": [
    "### Question 1\n",
    "If the asteroid can hit the Earth, its orbit much cross the orbit of Earth. Assuming the orbit of Earch is a circle with Radius $R$, the pericenter of the asteroid must be smaller than $R$, while the apocenter must be larger than $R$. Combined with the constraints of semimojor axis $a$ and eccentricity $e$, the conditions are\n",
    "\\begin{equation}\n",
    "\\begin{aligned}\n",
    "(1-e)a \\leq R,\\\\\n",
    "(1+e)a \\geq R,\\\\\n",
    "0 \\leq a \\leq 3.5R,\\\\\n",
    "0 \\leq e \\leq 0.4.\n",
    "\\end{aligned}\n",
    "\\end{equation}\n",
    "This gives the allowd range of $a$ and $e$:"
   ]
  },
  {
   "cell_type": "code",
   "execution_count": 12,
   "metadata": {},
   "outputs": [],
   "source": [
    "import numpy as np\n",
    "import matplotlib.pyplot as plt"
   ]
  },
  {
   "cell_type": "code",
   "execution_count": 13,
   "metadata": {},
   "outputs": [
    {
     "data": {
      "image/png": "[encoded data removed]",
      "text/plain": [
       "<Figure size 432x288 with 1 Axes>"
      ]
     },
     "metadata": {
      "needs_background": "light"
     },
     "output_type": "display_data"
    }
   ],
   "source": [
    "fig, ax = plt.subplots(1,1)\n",
    "x1 = np.arange(5/7, 1.01, 0.01)\n",
    "x2 = np.arange(1, 5/3, 0.01)\n",
    "ax.fill_between(x=x1, y1=0.4*np.ones_like(x1), y2=1/x1-1, color='tab:blue')\n",
    "ax.fill_between(x=x2, y1=0.4*np.ones_like(x2), y2=1-1/x2, color='tab:blue')\n",
    "ax.plot(np.arange(0.5, 2.5, 0.1), 0.4*np.ones(20), color='k', linestyle=':')\n",
    "ax.plot(5/7*np.ones(30), np.arange(30)*0.5/29, color='k', linestyle=':')\n",
    "ax.plot(5/3*np.ones(30), np.arange(30)*0.5/29, color='k', linestyle=':')\n",
    "y_max = np.arange(30)*0.4/29\n",
    "x_max = (1-y_max**2)**(1/3)\n",
    "ax.plot(x_max, y_max, color='k')\n",
    "ax.set_xlim([0.5, 2.0])\n",
    "ax.set_ylim([0, 0.45])\n",
    "ax.set_xticks([5/7, 1, 5/3])\n",
    "ax.set_xticklabels([r'5/7', 1, r'5/3'])\n",
    "ax.set_yticks(np.arange(0, 0.45, 0.1))\n",
    "ax.set_xlabel(r'$a/R$', fontsize=16)\n",
    "ax.set_ylabel(r'$e$', fontsize=16);"
   ]
  },
  {
   "cell_type": "markdown",
   "metadata": {},
   "source": [
    "The total energy (the sum of kinetic energy and gravitational potential energy) is conserved and determined by $a$. Therefore, the absolute velocity (in the solar coordinates) of the asteroid is a constant at the Earth orbit $(r=R)$. We have:\n",
    "\\begin{equation}\n",
    "\\frac{1}{2} mv^2 - \\frac{GMm}{R}= -\\frac{GMm}{2a}\\\\\n",
    "v^2 = \\frac{2GM}{R} - \\frac{GM}{a}.\n",
    "\\end{equation}\n",
    "Besides, the angular momentum is also conserved:\n",
    "\\begin{equation}\n",
    "m R v_\\parallel = m (1-e)a \\sqrt{\\frac{(1+e)GM}{(1-e)a}}\\\\\n",
    "v_\\parallel = \\sqrt{\\frac{(1-e^2)GMa}{R^2}}.\n",
    "\\end{equation}\n",
    "Therefore, the perpendicular speed is\n",
    "\\begin{equation}\n",
    "\\begin{aligned}\n",
    "v^2_\\perp & = v^2 - v^2_\\parallel\\\\\n",
    "& = \\frac{2GM}{R} - \\frac{GM}{a} - \\frac{(1-e^2)GMa}{R^2}.\n",
    "\\end{aligned}\n",
    "\\end{equation}\n",
    "In the Earth's frame of reference, the perpendicular speed decomposition is conserved, while the parallel decomposition is different. Most of the asteroids has the same orbit direction as the Earth, thus the parallel decomposition is $v_\\parallel-v_\\mathrm{Earth}$. Therefore, the relative speed is\n",
    "\\begin{equation}\n",
    "\\begin{aligned}\n",
    "v'^2 &= (v_\\parallel-v_\\mathrm{Earth})^2 + v^2_\\perp\\\\\n",
    " &= \\frac{(1-e^2)GMa}{R^2} + \\frac{GM}{R} - 2\\frac{GM}{R}\\sqrt{\\frac{(1-e^2)a}{R}} + \\frac{2GM}{R} - \\frac{GM}{a} - \\frac{(1-e^2)GMa}{R^2}\\\\\n",
    " &= \\frac{3GM}{R} - \\frac{GM}{a} - 2\\frac{GM}{R}\\sqrt{\\frac{(1-e^2)a}{R}}\\\\\n",
    " &= \\frac{GM}{R}\\left(3-\\frac{R}{a}-2\\sqrt{\\frac{(1-e^2)a}{R}}\\right).\n",
    "\\end{aligned}\n",
    "\\end{equation}\n",
    "This increases monotonically with $e$, and if $e$ is fixed, it peaks at $a = (1-e^2)^\\frac{1}{3}R$, shown as black solid curve in the above plot. Therefore, The velocity is the largest when $e=0.4$ and $a=0.6^{1/3}R$, and is the smallest when $e=0$ and $a=R$. This gives:\n",
    "\\begin{equation}\n",
    "\\begin{aligned}\n",
    "0 \\leq v' \\leq 0.4\\sqrt{\\frac{GM}{R}}\\\\\n",
    "0 \\leq v' \\leq 12 ~\\mathrm{km}/\\mathrm{s}.\n",
    "\\end{aligned}\n",
    "\\end{equation}\n",
    "\n",
    "In the above analysis, we have neglected the gravitational potential of the Earth. The kinetic energy obtained by the asteroid at the surface of the earth is: \n",
    "$$\n",
    "\\frac{GM_\\mathrm{Earth}}{r_\\mathrm{Earth}} = 62.56 ~\\mathrm{km}^2/\\mathrm{s}^{2}.\n",
    "$$\n",
    "This is important compared with the kinetic energy in the previous equation:\n",
    "\\begin{equation}\n",
    "\\begin{aligned}\n",
    "\\frac{1}{2}v'^2 = 70.99 ~\\mathrm{km}^2/\\mathrm{s}^{2}.\n",
    "\\end{aligned}\n",
    "\\end{equation}"
   ]
  },
  {
   "cell_type": "code",
   "execution_count": 14,
   "metadata": {},
   "outputs": [
    {
     "name": "stdout",
     "output_type": "stream",
     "text": [
      "62.56487201210584 km**2 / (s**2)\n"
     ]
    }
   ],
   "source": [
    "print((G * (1|units.MEarth) / (1|units.REarth)).in_(units.km**2/units.s**2))"
   ]
  },
  {
   "cell_type": "code",
   "execution_count": 15,
   "metadata": {},
   "outputs": [
    {
     "name": "stdout",
     "output_type": "stream",
     "text": [
      "70.98822418412199 km**2 / (s**2)\n"
     ]
    }
   ],
   "source": [
    "print((0.5*0.16*G*(1|units.MSun)/(1|units.AU)).in_(units.km**2/units.s**2))"
   ]
  },
  {
   "cell_type": "markdown",
   "metadata": {},
   "source": [
    "Therefore, the accurate relative velocity can be calculated as:\n",
    "\\begin{equation}\n",
    "\\begin{aligned}\n",
    "\\frac{1}{2}v''^2 = \\frac{1}{2}v'^2 + \\frac{GM_\\mathrm{Earth}}{r_\\mathrm{Earth}};\\\\\n",
    "7.91 ~\\mathrm{km}/\\mathrm{s} \\leq v'' \\leq 16.34 ~\\mathrm{km}/\\mathrm{s}\n",
    "\\end{aligned}\n",
    "\\end{equation}"
   ]
  },
  {
   "cell_type": "code",
   "execution_count": 16,
   "metadata": {},
   "outputs": [
    {
     "name": "stdout",
     "output_type": "stream",
     "text": [
      "7.90979595262 km / s\n"
     ]
    }
   ],
   "source": [
    "print((G * (1|units.MEarth) / (1|units.REarth)).sqrt().in_(units.km/units.s))"
   ]
  },
  {
   "cell_type": "code",
   "execution_count": 17,
   "metadata": {},
   "outputs": [
    {
     "name": "stdout",
     "output_type": "stream",
     "text": [
      "16.3433837498 km / s\n"
     ]
    }
   ],
   "source": [
    "print((0.16*G*(1|units.MSun)/(1|units.AU) + 2*G * (1|units.MEarth) / (1|units.REarth)).sqrt().in_(units.km/units.s) )"
   ]
  },
  {
   "cell_type": "markdown",
   "metadata": {},
   "source": [
    "If we allow the asteroid orbit in the opposite direction, the relative velocity is:\n",
    "\\begin{equation}\n",
    "v'^2 = \\frac{GM}{R}\\left(3-\\frac{R}{a}+2\\sqrt{\\frac{(1-e^2)a}{R}}\\right).\n",
    "\\end{equation}\n",
    "\n",
    "By doing differentiation, we find the maximum is reached at $a=(5/3)R$ and $e=0.4$. Therefore:\n",
    "\\begin{equation}\n",
    "v''_\\mathrm{max} = 65.99~\\mathrm{km}/\\mathrm{s}.\n",
    "\\end{equation}\n",
    "\n",
    "In this case, the Earth's grativation is negligible."
   ]
  },
  {
   "cell_type": "code",
   "execution_count": 18,
   "metadata": {},
   "outputs": [
    {
     "name": "stdout",
     "output_type": "stream",
     "text": [
      "65.9896693371 km / s\n"
     ]
    }
   ],
   "source": [
    "print( (G * mstar/Rearth * (3 - 3/5 + 2*np.sqrt((1-0.4**2)*5/3)) + 2*G * (1|units.MEarth) / (1|units.REarth)).sqrt().in_(units.km/units.s) )"
   ]
  },
  {
   "cell_type": "markdown",
   "metadata": {},
   "source": [
    "### Question 2\n",
    "\n",
    "The sun's luminosity is"
   ]
  },
  {
   "cell_type": "code",
   "execution_count": 23,
   "metadata": {},
   "outputs": [
    {
     "name": "stdout",
     "output_type": "stream",
     "text": [
      "0.9989779871714294 LSun .\n"
     ]
    }
   ],
   "source": [
    "TSun = 5772 | units.K\n",
    "RSun = 696342 | units.km\n",
    "print((units.constants.Stefan_hyphen_Boltzmann_constant * 4*np.pi*RSun**2 * TSun**4).in_(units.LSun))"
   ]
  },
  {
   "cell_type": "markdown",
   "metadata": {},
   "source": [
    "This is very close to unity, but not the same. The difference is"
   ]
  },
  {
   "cell_type": "code",
   "execution_count": 26,
   "metadata": {},
   "outputs": [
    {
     "name": "stdout",
     "output_type": "stream",
     "text": [
      "0.0010220128285706176\n"
     ]
    }
   ],
   "source": [
    "print(1-(units.constants.Stefan_hyphen_Boltzmann_constant * 4*np.pi*RSun**2 * TSun**4).in_(units.LSun)/(1|units.LSun))"
   ]
  },
  {
   "cell_type": "markdown",
   "metadata": {},
   "source": [
    "The difference is at $0.1\\%$ level. The physical properties used are only the photospheric temperature and the radius of the Sun. Therefore, at least one is inaccurate. If the photospheric temperature is inaccurate, it should be"
   ]
  },
  {
   "cell_type": "code",
   "execution_count": 28,
   "metadata": {},
   "outputs": [
    {
     "name": "stdout",
     "output_type": "stream",
     "text": [
      "5773.475707251949 K\n"
     ]
    }
   ],
   "source": [
    "print((((1|units.LSun)/(units.constants.Stefan_hyphen_Boltzmann_constant * 4*np.pi*RSun**2))**0.25).in_(units.K))"
   ]
  }
 ],
 "metadata": {
  "kernelspec": {
   "display_name": "Python 3",
   "language": "python",
   "name": "python3"
  },
  "language_info": {
   "codemirror_mode": {
    "name": "ipython",
    "version": 3
   },
   "file_extension": ".py",
   "mimetype": "text/x-python",
   "name": "python",
   "nbconvert_exporter": "python",
   "pygments_lexer": "ipython3",
   "version": "3.10.6"
  }
 },
 "nbformat": 4,
 "nbformat_minor": 4
}
