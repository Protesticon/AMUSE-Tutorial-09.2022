{
 "cells": [
  {
   "cell_type": "markdown",
   "metadata": {},
   "source": [
    "AMUSE tutorial on modules and channels\n",
    "====================\n",
    "\n",
    "AMUSE is composed of domain-specific modules (i.e. the physics modules), which are often written in some native compiled language, and data-handling.\n",
    "The latter tends to be confusing for novel users.\n",
    "Data representation in AMUSE is often replicated.\n",
    "So there can be a parameter *mass* to indicate a property of a star in a stellar-evolution code, in a gravitational dynamics code and in your user script. These three parameters *mass* can mean the same, or they can have a different meaning. This makes running amuse somewhat confusing at times.\n",
    "Here we show how to formally separate these data streams.\n",
    "\n",
    "But first we will enter the realm of modules."
   ]
  },
  {
   "cell_type": "code",
   "execution_count": 1,
   "metadata": {},
   "outputs": [],
   "source": [
    "#Load in the amuse units module, the particle module and \n",
    "# some generator for producing some conditions.\n",
    "from amuse.units import units, constants\n",
    "from amuse.lab import Particles"
   ]
  },
  {
   "cell_type": "markdown",
   "metadata": {},
   "source": [
    "We now want to generate the Solar system, as it was observed on April 5th 2063 using the [JPL emphemeris](https://ssd.jpl.nasa.gov/horizons.cgi#top).\n",
    "Let's start with the inner most planet, Mercury, in the Sun's barycenter, which gives the following output:\n",
    "\n",
    "*******************************************************************************\n",
    "$$SOE\n",
    "2474649.500000000 = A.D. 2063-Apr-05 00:00:00.0000 TDB \n",
    " X =-2.689701945882702E-01 Y = 1.947622508089924E-01 Z = 4.148911797144442E-02\n",
    " VX=-2.230751806031045E-02 VY=-2.157655548570704E-02 VZ= 2.791759037949523E-04\n",
    " LT= 1.932846451835678E-03 RG= 3.346619889187973E-01 RR= 5.406475142917982E-03\n",
    " \n",
    "We can use these to start an AMUSE particle set, as follows"
   ]
  },
  {
   "cell_type": "code",
   "execution_count": 2,
   "metadata": {},
   "outputs": [],
   "source": [
    "Sun = Particles(1)\n",
    "Sun.mass = 1 | units.MSun\n",
    "Sun.position = (0,0,0) | units.km\n",
    "Sun.velocity = (0,0,0) | units.km/units.s\n",
    "planets = Particles(8)\n",
    "planets[0].mass = 3.302e+23 | units.kg # also according to JPL)\n",
    "planets[0].position = (-2.689701945882702E-01,\n",
    "                       1.947622508089924E-01,\n",
    "                       4.148911797144442E-02) | units.au\n",
    "planets[0].velocity = (-2.230751806031045E-02,\n",
    "                       -2.157655548570704E-02,\n",
    "                       2.791759037949523E-04) | units.au/units.yr"
   ]
  },
  {
   "cell_type": "markdown",
   "metadata": {},
   "source": [
    "And continue doing this for the other 7 planets.\n",
    "Then add the Sun and we have the Solar system's particle set.\n",
    "It would be easier if there is a handy routine with the same effect, in particular because we will frequently be using the Solar system as some sort of template for a rather typical planetary system, or for specifically sutdying this planetary system. We therefore have a handy routine that allows us to initialize the Solar system."
   ]
  },
  {
   "cell_type": "code",
   "execution_count": 3,
   "metadata": {},
   "outputs": [
    {
     "name": "stdout",
     "output_type": "stream",
     "text": [
      "|S8\n",
      "                 key         mass         name       radius           vx           vy           vz            x            y            z\n",
      "                   -         MSun         none         RSun       km / s       km / s       km / s           AU           AU           AU\n",
      "====================  ===========  ===========  ===========  ===========  ===========  ===========  ===========  ===========  ===========\n",
      " 5055892504180612930    1.000e+00          SUN    1.000e+00   -1.874e-03   -1.560e-02    1.104e-04   -8.354e-03    1.923e-03    2.145e-04\n",
      " 1473795989910820520    1.660e-07      MERCURY    5.654e-03    1.032e+01   -4.214e+01   -4.388e+00   -3.923e-01   -1.749e-01    2.101e-02\n",
      "12836918243487594011    2.448e-06        VENUS    1.403e-02   -1.704e+01    3.049e+01    1.401e+00    6.251e-01    3.518e-01   -3.157e-02\n",
      "11487249187515533092    3.040e-06     EARTHMOO    1.482e-02    2.844e+01    6.966e+00    1.301e-04    2.337e-01   -9.855e-01    2.100e-04\n",
      "   75200665675600793    3.227e-07         MARS    7.853e-03   -2.299e+01    5.985e+00    6.908e-01    2.435e-01    1.528e+00    2.599e-02\n",
      " 9502134696306324981    9.548e-04      JUPITER    1.619e-01    2.872e+00    1.331e+01   -1.194e-01    4.833e+00   -1.158e+00   -1.034e-01\n",
      "15874581414422418889    2.859e-04       SATURN    1.342e-01   -4.794e+00    8.639e+00    4.001e-02    8.335e+00    4.127e+00   -4.033e-01\n",
      "10906129828911686288    4.366e-05       URANUS    5.834e-02    5.131e+00    4.103e+00   -5.124e-02    1.289e+01   -1.511e+01   -2.231e-01\n",
      "  285041924604741754    5.151e-05      NEPTUNE    5.572e-02    4.640e+00    2.804e+00   -1.647e-01    1.537e+01   -2.592e+01    1.795e-01\n",
      "17045387401722374767    7.396e-09        PLUTO    3.413e-03    5.144e+00   -2.956e+00   -1.172e+00   -1.152e+01   -2.708e+01    6.229e+00\n",
      "====================  ===========  ===========  ===========  ===========  ===========  ===========  ===========  ===========  ===========\n"
     ]
    }
   ],
   "source": [
    "from amuse.ext.solarsystem import new_solar_system\n",
    "sun_and_planets = new_solar_system()\n",
    "#sun_and_planets = sun_and_planets[0].as_set()\n",
    "print(sun_and_planets)"
   ]
  },
  {
   "cell_type": "markdown",
   "metadata": {},
   "source": [
    "We adopted the module `ext.new_solar_system` to generate a ready-made solar system. You can also make a solar system that includes it's moons. For this you will have to use the routine \n",
    "'new_lunar_system', which is a module from the 'amuse.ic.solar_system_moons' package.\n",
    "\n",
    "Now you can plot the positions of the sun and planets in the orbital plane."
   ]
  },
  {
   "cell_type": "markdown",
   "metadata": {},
   "source": [
    "In 1984  \n",
    "[Whitemire and Jackson](https://ui.adsabs.harvard.edu/abs/1984Natur.308..713W/abstract) and [Davies et al 1984](\n",
    "https://ui.adsabs.harvard.edu/abs/1984Natur.308..715D)([preprint](https://escholarship.org/uc/item/9gm5c682)) argued that the Solar system was orbited by a hypothetical star called nemesis, named after the goddess\n",
    "of Rhamnous who punished those who did not honor the Olympians.\n",
    "\n",
    "This companion to the Sun would have an orbital separation of about 95,000 au, and due to its interaction with the Oort cloud would initiate periodic comet shouwers in the inner Solar system; punishing life on Earth for being atheistic?\n",
    "\n",
    "Let's adopt the Solar system as we have just initialized and add Nemesis as an 0.2MSun main-sequence star in a 95,000 au orbit with an eccentricity of 0.7.\n",
    "\n",
    "Let's construct tha binary system of the Sun (without planets) and Nemesis."
   ]
  },
  {
   "cell_type": "code",
   "execution_count": 4,
   "metadata": {},
   "outputs": [
    {
     "name": "stdout",
     "output_type": "stream",
     "text": [
      "                 key         mass         name           vx           vy           vz            x            y            z\n",
      "                   -         MSun         none  3646245880.3572216 * m * s**-1  3646245880.3572216 * m * s**-1  3646245880.3572216 * m * s**-1  149597870691.0 * m  149597870691.0 * m  149597870691.0 * m\n",
      "====================  ===========  ===========  ===========  ===========  ===========  ===========  ===========  ===========\n",
      " 8426092045493863928    1.001e+00    Companion    0.000e+00   -1.151e-08   -0.000e+00   -4.745e+03   -0.000e+00   -0.000e+00\n",
      "    6793584129451155    2.000e-01      Nemesis    0.000e+00    5.764e-08    0.000e+00    2.376e+04    0.000e+00    0.000e+00\n",
      "====================  ===========  ===========  ===========  ===========  ===========  ===========  ===========  ===========\n"
     ]
    }
   ],
   "source": [
    "msun = sun_and_planets.mass.sum()\n",
    "mnemesis = 0.2 | units.MSun\n",
    "a = 95000 | units.au\n",
    "e = 0.7\n",
    "from amuse.ext.orbital_elements import new_binary_from_orbital_elements\n",
    "sun_and_nemesis = new_binary_from_orbital_elements(msun, mnemesis, \n",
    "                                          a, e, G=constants.G)\n",
    "setattr(sun_and_nemesis, \"name\", [\"Companion\", \"Nemesis\"])\n",
    "print(sun_and_nemesis)"
   ]
  },
  {
   "cell_type": "markdown",
   "metadata": {},
   "source": [
    "Now, the sun in this binary-particle set and the sun in the Solar system particle-set do not have the same position."
   ]
  },
  {
   "cell_type": "code",
   "execution_count": 5,
   "metadata": {},
   "outputs": [
    {
     "name": "stdout",
     "output_type": "stream",
     "text": [
      "[[-0.00835408821766, 0.0019229394648, 0.000214547107396]] au\n",
      "[[-4744.69448798, -0.0, -0.0]] au\n"
     ]
    }
   ],
   "source": [
    "sun = sun_and_planets[sun_and_planets.name==\"SUN\"]\n",
    "print(sun.position.in_(units.au))\n",
    "print(sun_and_nemesis[sun_and_nemesis.mass>0.9|units.MSun].position.in_(units.au))"
   ]
  },
  {
   "cell_type": "markdown",
   "metadata": {},
   "source": [
    "And, equally they will have different velocity.\n",
    "\n",
    "However, we would like to adot these binary parameters for the Sun-Nemesis binary system. For this, we first move the entire Solar system to the Sun barycenter, move it to Nemesis' companion and add Nemesis."
   ]
  },
  {
   "cell_type": "code",
   "execution_count": 6,
   "metadata": {},
   "outputs": [
    {
     "name": "stdout",
     "output_type": "stream",
     "text": [
      "                 key         mass         name       radius           vx           vy           vz            x            y            z\n",
      "                   -         MSun         none         RSun       km / s       km / s       km / s           AU           AU           AU\n",
      "====================  ===========  ===========  ===========  ===========  ===========  ===========  ===========  ===========  ===========\n",
      " 5055892504180612930    1.000e+00          SUN    1.000e+00    0.000e+00   -4.198e-02    0.000e+00   -4.745e+03    0.000e+00    0.000e+00\n",
      " 1473795989910820520    1.660e-07      MERCURY    5.654e-03    1.032e+01   -4.217e+01   -4.389e+00   -4.745e+03   -1.769e-01    2.080e-02\n",
      "12836918243487594011    2.448e-06        VENUS    1.403e-02   -1.704e+01    3.046e+01    1.400e+00   -4.744e+03    3.499e-01   -3.179e-02\n",
      "11487249187515533092    3.040e-06     EARTHMOO    1.482e-02    2.845e+01    6.939e+00    1.967e-05   -4.744e+03   -9.875e-01   -4.543e-06\n",
      "   75200665675600793    3.227e-07         MARS    7.853e-03   -2.298e+01    5.959e+00    6.907e-01   -4.744e+03    1.526e+00    2.578e-02\n",
      " 9502134696306324981    9.548e-04      JUPITER    1.619e-01    2.874e+00    1.329e+01   -1.196e-01   -4.740e+03   -1.160e+00   -1.036e-01\n",
      "15874581414422418889    2.859e-04       SATURN    1.342e-01   -4.792e+00    8.613e+00    3.990e-02   -4.736e+03    4.125e+00   -4.035e-01\n",
      "10906129828911686288    4.366e-05       URANUS    5.834e-02    5.133e+00    4.076e+00   -5.135e-02   -4.732e+03   -1.511e+01   -2.233e-01\n",
      "  285041924604741754    5.151e-05      NEPTUNE    5.572e-02    4.641e+00    2.777e+00   -1.648e-01   -4.729e+03   -2.592e+01    1.793e-01\n",
      "17045387401722374767    7.396e-09        PLUTO    3.413e-03    5.146e+00   -2.982e+00   -1.172e+00   -4.756e+03   -2.708e+01    6.229e+00\n",
      "    6793584129451155    2.000e-01      Nemesis    0.000e+00    0.000e+00    2.102e-01    0.000e+00    2.376e+04    0.000e+00    0.000e+00\n",
      "====================  ===========  ===========  ===========  ===========  ===========  ===========  ===========  ===========  ===========\n"
     ]
    }
   ],
   "source": [
    "sun_and_planets.position -= sun.position\n",
    "sun_and_planets.velocity -= sun.velocity\n",
    "companion = sun_and_nemesis[sun_and_nemesis.name==\"Companion\"]\n",
    "nemesis = sun_and_nemesis[sun_and_nemesis.name==\"Nemesis\"]\n",
    "sun_and_planets.position += companion.position\n",
    "sun_and_planets.velocity += companion.velocity\n",
    "sun_and_planets.add_particle(sun_and_nemesis[1])\n",
    "print(sun_and_planets)"
   ]
  },
  {
   "cell_type": "markdown",
   "metadata": {},
   "source": [
    "You have created a hypothetical planetary system with the Sun, 8 planets and 1 dwarf planet (mimiking the Solar system), and a secondary star (Nemesis) in a wide and elliptic orbit.\n",
    "\n",
    "Assignments and questions:\n",
    "---------------\n",
    "\n",
    "### Assignment 1:\n",
    "To check the orbit of Nemesis around the Sun you can calculate the orbital elements from the Cartesian coordinates of the Sun and Nemesis. Perform this operation and check the orbital elements of the nemesis-Sun binary. \n",
    "\n",
    "### Question 1:\n",
    "When performing this assignment, we found that the orbit between the Sun and Nemesis is slightly off from what we put in. The semi-major axis is about 95,606 au with an eccentricity of about 0.702. \n",
    "\n",
    "Explain why the orbit is not what you anticipated it to be, and what can you do to mitigate this?\n",
    "\n",
    "### Assignment 2: \n",
    "Add 100 zero-mass Oort cloud object in circular orbits around the Sun with semi-major axes equally spaced between 10000au and 50000 au. Integrate those orbits for 10 full orbits of the Sun-Nemesis binary. Make a scatter plot of eccentricity as function of the semi-major axis for the initial and final Oort-cloud objects. Explain the figure.\n",
    "\n",
    "Be aware that 10 Nemesis periods is ~160 Myr, and running the system for that time will take a lot of time (about an hour). Start with shorter times and build up towards longer times when you know your code runs. You can also try different codes, and leaving out some planets. Is Mercury really that important? But leaving it out may let the code take greater timesteps.\n",
    "\n",
    "### Question 3:\n",
    "Do you think that Nemesis could be the cause of periodic cometary visitors?"
   ]
  },
  {
   "cell_type": "markdown",
   "metadata": {},
   "source": [
    "### Assignment 1"
   ]
  },
  {
   "cell_type": "code",
   "execution_count": 7,
   "metadata": {
    "scrolled": true
   },
   "outputs": [
    {
     "name": "stdout",
     "output_type": "stream",
     "text": [
      "cluster at Time= 0 yr\n",
      "cluster at Time= 1000 yr\n",
      "cluster at Time= 2000 yr\n",
      "cluster at Time= 3000 yr\n",
      "cluster at Time= 4000 yr\n",
      "cluster at Time= 5000 yr\n",
      "cluster at Time= 6000 yr\n",
      "cluster at Time= 7000 yr\n",
      "cluster at Time= 8000 yr\n",
      "cluster at Time= 9000 yr\n",
      "cluster at Time= 10000 yr\n",
      "cluster at Time= 11000 yr\n",
      "cluster at Time= 12000 yr\n",
      "cluster at Time= 13000 yr\n",
      "cluster at Time= 14000 yr\n",
      "cluster at Time= 15000 yr\n",
      "cluster at Time= 16000 yr\n",
      "cluster at Time= 17000 yr\n",
      "cluster at Time= 18000 yr\n",
      "cluster at Time= 19000 yr\n",
      "cluster at Time= 20000 yr\n",
      "cluster at Time= 21000 yr\n",
      "cluster at Time= 22000 yr\n",
      "cluster at Time= 23000 yr\n",
      "cluster at Time= 24000 yr\n",
      "cluster at Time= 25000 yr\n",
      "cluster at Time= 26000 yr\n",
      "cluster at Time= 27000 yr\n",
      "cluster at Time= 28000 yr\n",
      "cluster at Time= 29000 yr\n",
      "cluster at Time= 30000 yr\n",
      "cluster at Time= 31000 yr\n",
      "cluster at Time= 32000 yr\n",
      "cluster at Time= 33000 yr\n",
      "cluster at Time= 34000 yr\n",
      "cluster at Time= 35000 yr\n",
      "cluster at Time= 36000 yr\n",
      "cluster at Time= 37000 yr\n",
      "cluster at Time= 38000 yr\n",
      "cluster at Time= 39000 yr\n",
      "cluster at Time= 40000 yr\n",
      "cluster at Time= 41000 yr\n",
      "cluster at Time= 42000 yr\n",
      "cluster at Time= 43000 yr\n",
      "cluster at Time= 44000 yr\n"
     ]
    },
    {
     "ename": "KeyboardInterrupt",
     "evalue": "",
     "output_type": "error",
     "traceback": [
      "\u001b[0;31m---------------------------------------------------------------------------\u001b[0m",
      "\u001b[0;31mKeyboardInterrupt\u001b[0m                         Traceback (most recent call last)",
      "\u001b[0;32m<ipython-input-7-435068f1b256>\u001b[0m in \u001b[0;36m<module>\u001b[0;34m\u001b[0m\n\u001b[1;32m     24\u001b[0m \u001b[0mpositionnemesis\u001b[0m \u001b[0;34m=\u001b[0m \u001b[0;34m[\u001b[0m\u001b[0;34m]\u001b[0m \u001b[0;34m|\u001b[0m \u001b[0munits\u001b[0m\u001b[0;34m.\u001b[0m\u001b[0mau\u001b[0m\u001b[0;34m\u001b[0m\u001b[0;34m\u001b[0m\u001b[0m\n\u001b[1;32m     25\u001b[0m \u001b[0;32mfor\u001b[0m \u001b[0mi\u001b[0m\u001b[0;34m,\u001b[0m \u001b[0mtime\u001b[0m \u001b[0;32min\u001b[0m \u001b[0menumerate\u001b[0m\u001b[0;34m(\u001b[0m\u001b[0mtimes\u001b[0m\u001b[0;34m)\u001b[0m\u001b[0;34m:\u001b[0m\u001b[0;34m\u001b[0m\u001b[0;34m\u001b[0m\u001b[0m\n\u001b[0;32m---> 26\u001b[0;31m     \u001b[0mgravity\u001b[0m\u001b[0;34m.\u001b[0m\u001b[0mevolve_model\u001b[0m\u001b[0;34m(\u001b[0m\u001b[0mtime\u001b[0m\u001b[0;34m)\u001b[0m\u001b[0;34m\u001b[0m\u001b[0;34m\u001b[0m\u001b[0m\n\u001b[0m\u001b[1;32m     27\u001b[0m     \u001b[0mchannel\u001b[0m\u001b[0;34m.\u001b[0m\u001b[0mcopy\u001b[0m\u001b[0;34m(\u001b[0m\u001b[0;34m)\u001b[0m \u001b[0;31m# Copy from gravity.particles to bodies\u001b[0m\u001b[0;34m\u001b[0m\u001b[0;34m\u001b[0m\u001b[0m\n\u001b[1;32m     28\u001b[0m \u001b[0;34m\u001b[0m\u001b[0m\n",
      "\u001b[0;32m/software/amuse/amuse-2021.6/lib/python3.9/site-packages/amuse/support/methods.py\u001b[0m in \u001b[0;36m__call__\u001b[0;34m(self, *list_arguments, **keyword_arguments)\u001b[0m\n\u001b[1;32m    166\u001b[0m         \u001b[0mobject\u001b[0m \u001b[0;34m=\u001b[0m \u001b[0mself\u001b[0m\u001b[0;34m.\u001b[0m\u001b[0mprecall\u001b[0m\u001b[0;34m(\u001b[0m\u001b[0;34m)\u001b[0m\u001b[0;34m\u001b[0m\u001b[0;34m\u001b[0m\u001b[0m\n\u001b[1;32m    167\u001b[0m         \u001b[0mlist_arguments\u001b[0m\u001b[0;34m,\u001b[0m \u001b[0mkeyword_arguments\u001b[0m \u001b[0;34m=\u001b[0m \u001b[0mself\u001b[0m\u001b[0;34m.\u001b[0m\u001b[0mconvert_arguments\u001b[0m\u001b[0;34m(\u001b[0m\u001b[0mlist_arguments\u001b[0m\u001b[0;34m,\u001b[0m \u001b[0mkeyword_arguments\u001b[0m\u001b[0;34m)\u001b[0m\u001b[0;34m\u001b[0m\u001b[0;34m\u001b[0m\u001b[0m\n\u001b[0;32m--> 168\u001b[0;31m         \u001b[0mresult\u001b[0m \u001b[0;34m=\u001b[0m \u001b[0mself\u001b[0m\u001b[0;34m.\u001b[0m\u001b[0mmethod\u001b[0m\u001b[0;34m(\u001b[0m\u001b[0;34m*\u001b[0m\u001b[0mlist_arguments\u001b[0m\u001b[0;34m,\u001b[0m \u001b[0;34m**\u001b[0m\u001b[0mkeyword_arguments\u001b[0m\u001b[0;34m)\u001b[0m\u001b[0;34m\u001b[0m\u001b[0;34m\u001b[0m\u001b[0m\n\u001b[0m\u001b[1;32m    169\u001b[0m \u001b[0;34m\u001b[0m\u001b[0m\n\u001b[1;32m    170\u001b[0m         \u001b[0mresult\u001b[0m \u001b[0;34m=\u001b[0m \u001b[0mself\u001b[0m\u001b[0;34m.\u001b[0m\u001b[0mconvert_result\u001b[0m\u001b[0;34m(\u001b[0m\u001b[0mresult\u001b[0m\u001b[0;34m)\u001b[0m\u001b[0;34m\u001b[0m\u001b[0;34m\u001b[0m\u001b[0m\n",
      "\u001b[0;32m/software/amuse/amuse-2021.6/lib/python3.9/site-packages/amuse/support/methods.py\u001b[0m in \u001b[0;36m__call__\u001b[0;34m(self, *list_arguments, **keyword_arguments)\u001b[0m\n\u001b[1;32m    166\u001b[0m         \u001b[0mobject\u001b[0m \u001b[0;34m=\u001b[0m \u001b[0mself\u001b[0m\u001b[0;34m.\u001b[0m\u001b[0mprecall\u001b[0m\u001b[0;34m(\u001b[0m\u001b[0;34m)\u001b[0m\u001b[0;34m\u001b[0m\u001b[0;34m\u001b[0m\u001b[0m\n\u001b[1;32m    167\u001b[0m         \u001b[0mlist_arguments\u001b[0m\u001b[0;34m,\u001b[0m \u001b[0mkeyword_arguments\u001b[0m \u001b[0;34m=\u001b[0m \u001b[0mself\u001b[0m\u001b[0;34m.\u001b[0m\u001b[0mconvert_arguments\u001b[0m\u001b[0;34m(\u001b[0m\u001b[0mlist_arguments\u001b[0m\u001b[0;34m,\u001b[0m \u001b[0mkeyword_arguments\u001b[0m\u001b[0;34m)\u001b[0m\u001b[0;34m\u001b[0m\u001b[0;34m\u001b[0m\u001b[0m\n\u001b[0;32m--> 168\u001b[0;31m         \u001b[0mresult\u001b[0m \u001b[0;34m=\u001b[0m \u001b[0mself\u001b[0m\u001b[0;34m.\u001b[0m\u001b[0mmethod\u001b[0m\u001b[0;34m(\u001b[0m\u001b[0;34m*\u001b[0m\u001b[0mlist_arguments\u001b[0m\u001b[0;34m,\u001b[0m \u001b[0;34m**\u001b[0m\u001b[0mkeyword_arguments\u001b[0m\u001b[0;34m)\u001b[0m\u001b[0;34m\u001b[0m\u001b[0;34m\u001b[0m\u001b[0m\n\u001b[0m\u001b[1;32m    169\u001b[0m \u001b[0;34m\u001b[0m\u001b[0m\n\u001b[1;32m    170\u001b[0m         \u001b[0mresult\u001b[0m \u001b[0;34m=\u001b[0m \u001b[0mself\u001b[0m\u001b[0;34m.\u001b[0m\u001b[0mconvert_result\u001b[0m\u001b[0;34m(\u001b[0m\u001b[0mresult\u001b[0m\u001b[0;34m)\u001b[0m\u001b[0;34m\u001b[0m\u001b[0;34m\u001b[0m\u001b[0m\n",
      "\u001b[0;32m/software/amuse/amuse-2021.6/lib/python3.9/site-packages/amuse/support/methods.py\u001b[0m in \u001b[0;36m__call__\u001b[0;34m(self, *list_arguments, **keyword_arguments)\u001b[0m\n\u001b[1;32m    166\u001b[0m         \u001b[0mobject\u001b[0m \u001b[0;34m=\u001b[0m \u001b[0mself\u001b[0m\u001b[0;34m.\u001b[0m\u001b[0mprecall\u001b[0m\u001b[0;34m(\u001b[0m\u001b[0;34m)\u001b[0m\u001b[0;34m\u001b[0m\u001b[0;34m\u001b[0m\u001b[0m\n\u001b[1;32m    167\u001b[0m         \u001b[0mlist_arguments\u001b[0m\u001b[0;34m,\u001b[0m \u001b[0mkeyword_arguments\u001b[0m \u001b[0;34m=\u001b[0m \u001b[0mself\u001b[0m\u001b[0;34m.\u001b[0m\u001b[0mconvert_arguments\u001b[0m\u001b[0;34m(\u001b[0m\u001b[0mlist_arguments\u001b[0m\u001b[0;34m,\u001b[0m \u001b[0mkeyword_arguments\u001b[0m\u001b[0;34m)\u001b[0m\u001b[0;34m\u001b[0m\u001b[0;34m\u001b[0m\u001b[0m\n\u001b[0;32m--> 168\u001b[0;31m         \u001b[0mresult\u001b[0m \u001b[0;34m=\u001b[0m \u001b[0mself\u001b[0m\u001b[0;34m.\u001b[0m\u001b[0mmethod\u001b[0m\u001b[0;34m(\u001b[0m\u001b[0;34m*\u001b[0m\u001b[0mlist_arguments\u001b[0m\u001b[0;34m,\u001b[0m \u001b[0;34m**\u001b[0m\u001b[0mkeyword_arguments\u001b[0m\u001b[0;34m)\u001b[0m\u001b[0;34m\u001b[0m\u001b[0;34m\u001b[0m\u001b[0m\n\u001b[0m\u001b[1;32m    169\u001b[0m \u001b[0;34m\u001b[0m\u001b[0m\n\u001b[1;32m    170\u001b[0m         \u001b[0mresult\u001b[0m \u001b[0;34m=\u001b[0m \u001b[0mself\u001b[0m\u001b[0;34m.\u001b[0m\u001b[0mconvert_result\u001b[0m\u001b[0;34m(\u001b[0m\u001b[0mresult\u001b[0m\u001b[0;34m)\u001b[0m\u001b[0;34m\u001b[0m\u001b[0;34m\u001b[0m\u001b[0m\n",
      "\u001b[0;32m/software/amuse/amuse-2021.6/lib/python3.9/site-packages/amuse/support/methods.py\u001b[0m in \u001b[0;36m__call__\u001b[0;34m(self, *list_arguments, **keyword_arguments)\u001b[0m\n\u001b[1;32m    265\u001b[0m \u001b[0;34m\u001b[0m\u001b[0m\n\u001b[1;32m    266\u001b[0m     \u001b[0;32mdef\u001b[0m \u001b[0m__call__\u001b[0m\u001b[0;34m(\u001b[0m\u001b[0mself\u001b[0m\u001b[0;34m,\u001b[0m \u001b[0;34m*\u001b[0m\u001b[0mlist_arguments\u001b[0m\u001b[0;34m,\u001b[0m \u001b[0;34m**\u001b[0m\u001b[0mkeyword_arguments\u001b[0m\u001b[0;34m)\u001b[0m\u001b[0;34m:\u001b[0m\u001b[0;34m\u001b[0m\u001b[0;34m\u001b[0m\u001b[0m\n\u001b[0;32m--> 267\u001b[0;31m         \u001b[0;32mreturn\u001b[0m \u001b[0mself\u001b[0m\u001b[0;34m.\u001b[0m\u001b[0mmethod\u001b[0m\u001b[0;34m(\u001b[0m\u001b[0;34m*\u001b[0m\u001b[0mlist_arguments\u001b[0m\u001b[0;34m,\u001b[0m \u001b[0;34m**\u001b[0m\u001b[0mkeyword_arguments\u001b[0m\u001b[0;34m)\u001b[0m\u001b[0;34m\u001b[0m\u001b[0;34m\u001b[0m\u001b[0m\n\u001b[0m\u001b[1;32m    268\u001b[0m \u001b[0;34m\u001b[0m\u001b[0m\n\u001b[1;32m    269\u001b[0m     \u001b[0;32mdef\u001b[0m \u001b[0masynchronous\u001b[0m\u001b[0;34m(\u001b[0m\u001b[0mself\u001b[0m\u001b[0;34m,\u001b[0m \u001b[0;34m*\u001b[0m\u001b[0mlist_arguments\u001b[0m\u001b[0;34m,\u001b[0m \u001b[0;34m**\u001b[0m\u001b[0mkeyword_arguments\u001b[0m\u001b[0;34m)\u001b[0m\u001b[0;34m:\u001b[0m\u001b[0;34m\u001b[0m\u001b[0;34m\u001b[0m\u001b[0m\n",
      "\u001b[0;32m/software/amuse/amuse-2021.6/lib/python3.9/site-packages/amuse/rfi/core.py\u001b[0m in \u001b[0;36m__call__\u001b[0;34m(self, *arguments_list, **keyword_arguments)\u001b[0m\n\u001b[1;32m    118\u001b[0m             \u001b[0mself\u001b[0m\u001b[0;34m.\u001b[0m\u001b[0minterface\u001b[0m\u001b[0;34m.\u001b[0m\u001b[0mchannel\u001b[0m\u001b[0;34m.\u001b[0m\u001b[0msend_message\u001b[0m\u001b[0;34m(\u001b[0m\u001b[0mcall_id\u001b[0m\u001b[0;34m,\u001b[0m \u001b[0mself\u001b[0m\u001b[0;34m.\u001b[0m\u001b[0mspecification\u001b[0m\u001b[0;34m.\u001b[0m\u001b[0mid\u001b[0m\u001b[0;34m,\u001b[0m \u001b[0mdtype_to_arguments\u001b[0m \u001b[0;34m=\u001b[0m \u001b[0mdtype_to_values\u001b[0m\u001b[0;34m)\u001b[0m\u001b[0;34m\u001b[0m\u001b[0;34m\u001b[0m\u001b[0m\n\u001b[1;32m    119\u001b[0m \u001b[0;34m\u001b[0m\u001b[0m\n\u001b[0;32m--> 120\u001b[0;31m             \u001b[0mdtype_to_result\u001b[0m \u001b[0;34m=\u001b[0m \u001b[0mself\u001b[0m\u001b[0;34m.\u001b[0m\u001b[0minterface\u001b[0m\u001b[0;34m.\u001b[0m\u001b[0mchannel\u001b[0m\u001b[0;34m.\u001b[0m\u001b[0mrecv_message\u001b[0m\u001b[0;34m(\u001b[0m\u001b[0mcall_id\u001b[0m\u001b[0;34m,\u001b[0m \u001b[0mself\u001b[0m\u001b[0;34m.\u001b[0m\u001b[0mspecification\u001b[0m\u001b[0;34m.\u001b[0m\u001b[0mid\u001b[0m\u001b[0;34m,\u001b[0m \u001b[0mhandle_as_array\u001b[0m\u001b[0;34m)\u001b[0m\u001b[0;34m\u001b[0m\u001b[0;34m\u001b[0m\u001b[0m\n\u001b[0m\u001b[1;32m    121\u001b[0m         \u001b[0;32mexcept\u001b[0m \u001b[0mException\u001b[0m \u001b[0;32mas\u001b[0m \u001b[0mex\u001b[0m\u001b[0;34m:\u001b[0m\u001b[0;34m\u001b[0m\u001b[0;34m\u001b[0m\u001b[0m\n\u001b[1;32m    122\u001b[0m             \u001b[0mCODE_LOG\u001b[0m\u001b[0;34m.\u001b[0m\u001b[0minfo\u001b[0m\u001b[0;34m(\u001b[0m\u001b[0;34m\"Exception when calling function '{0}', of code '{1}', exception was '{2}'\"\u001b[0m\u001b[0;34m.\u001b[0m\u001b[0mformat\u001b[0m\u001b[0;34m(\u001b[0m\u001b[0mself\u001b[0m\u001b[0;34m.\u001b[0m\u001b[0mspecification\u001b[0m\u001b[0;34m.\u001b[0m\u001b[0mname\u001b[0m\u001b[0;34m,\u001b[0m \u001b[0mtype\u001b[0m\u001b[0;34m(\u001b[0m\u001b[0mself\u001b[0m\u001b[0;34m.\u001b[0m\u001b[0minterface\u001b[0m\u001b[0;34m)\u001b[0m\u001b[0;34m.\u001b[0m\u001b[0m__name__\u001b[0m\u001b[0;34m,\u001b[0m \u001b[0mex\u001b[0m\u001b[0;34m)\u001b[0m\u001b[0;34m)\u001b[0m\u001b[0;34m\u001b[0m\u001b[0;34m\u001b[0m\u001b[0m\n",
      "\u001b[0;32m/software/amuse/amuse-2021.6/lib/python3.9/site-packages/amuse/rfi/channel.py\u001b[0m in \u001b[0;36mrecv_message\u001b[0;34m(self, call_id, function_id, handle_as_array, has_units)\u001b[0m\n\u001b[1;32m   1945\u001b[0m         \u001b[0mmessage\u001b[0m \u001b[0;34m=\u001b[0m \u001b[0mSocketMessage\u001b[0m\u001b[0;34m(\u001b[0m\u001b[0;34m)\u001b[0m\u001b[0;34m\u001b[0m\u001b[0;34m\u001b[0m\u001b[0m\n\u001b[1;32m   1946\u001b[0m \u001b[0;34m\u001b[0m\u001b[0m\n\u001b[0;32m-> 1947\u001b[0;31m         \u001b[0mmessage\u001b[0m\u001b[0;34m.\u001b[0m\u001b[0mreceive\u001b[0m\u001b[0;34m(\u001b[0m\u001b[0mself\u001b[0m\u001b[0;34m.\u001b[0m\u001b[0msocket\u001b[0m\u001b[0;34m)\u001b[0m\u001b[0;34m\u001b[0m\u001b[0;34m\u001b[0m\u001b[0m\n\u001b[0m\u001b[1;32m   1948\u001b[0m \u001b[0;34m\u001b[0m\u001b[0m\n\u001b[1;32m   1949\u001b[0m         \u001b[0;32mif\u001b[0m \u001b[0mmessage\u001b[0m\u001b[0;34m.\u001b[0m\u001b[0merror\u001b[0m\u001b[0;34m:\u001b[0m\u001b[0;34m\u001b[0m\u001b[0;34m\u001b[0m\u001b[0m\n",
      "\u001b[0;32m/software/amuse/amuse-2021.6/lib/python3.9/site-packages/amuse/rfi/channel.py\u001b[0m in \u001b[0;36mreceive\u001b[0;34m(self, socket)\u001b[0m\n\u001b[1;32m   1496\u001b[0m         \u001b[0;31m# logger.debug(\"receiving message\")\u001b[0m\u001b[0;34m\u001b[0m\u001b[0;34m\u001b[0m\u001b[0m\n\u001b[1;32m   1497\u001b[0m \u001b[0;34m\u001b[0m\u001b[0m\n\u001b[0;32m-> 1498\u001b[0;31m         \u001b[0mheader_bytes\u001b[0m \u001b[0;34m=\u001b[0m \u001b[0mself\u001b[0m\u001b[0;34m.\u001b[0m\u001b[0m_receive_all\u001b[0m\u001b[0;34m(\u001b[0m\u001b[0;36m44\u001b[0m\u001b[0;34m,\u001b[0m \u001b[0msocket\u001b[0m\u001b[0;34m)\u001b[0m\u001b[0;34m\u001b[0m\u001b[0;34m\u001b[0m\u001b[0m\n\u001b[0m\u001b[1;32m   1499\u001b[0m \u001b[0;34m\u001b[0m\u001b[0m\n\u001b[1;32m   1500\u001b[0m         \u001b[0mflags\u001b[0m \u001b[0;34m=\u001b[0m \u001b[0mnumpy\u001b[0m\u001b[0;34m.\u001b[0m\u001b[0mfrombuffer\u001b[0m\u001b[0;34m(\u001b[0m\u001b[0mheader_bytes\u001b[0m\u001b[0;34m,\u001b[0m \u001b[0mdtype\u001b[0m\u001b[0;34m=\u001b[0m\u001b[0;34m\"b\"\u001b[0m\u001b[0;34m,\u001b[0m \u001b[0mcount\u001b[0m\u001b[0;34m=\u001b[0m\u001b[0;36m4\u001b[0m\u001b[0;34m,\u001b[0m \u001b[0moffset\u001b[0m\u001b[0;34m=\u001b[0m\u001b[0;36m0\u001b[0m\u001b[0;34m)\u001b[0m\u001b[0;34m\u001b[0m\u001b[0;34m\u001b[0m\u001b[0m\n",
      "\u001b[0;32m/software/amuse/amuse-2021.6/lib/python3.9/site-packages/amuse/rfi/channel.py\u001b[0m in \u001b[0;36m_receive_all\u001b[0;34m(self, nbytes, thesocket)\u001b[0m\n\u001b[1;32m   1478\u001b[0m         \u001b[0;32mwhile\u001b[0m \u001b[0mnbytes\u001b[0m \u001b[0;34m>\u001b[0m \u001b[0;36m0\u001b[0m\u001b[0;34m:\u001b[0m\u001b[0;34m\u001b[0m\u001b[0;34m\u001b[0m\u001b[0m\n\u001b[1;32m   1479\u001b[0m             \u001b[0mchunk\u001b[0m \u001b[0;34m=\u001b[0m \u001b[0mmin\u001b[0m\u001b[0;34m(\u001b[0m\u001b[0mnbytes\u001b[0m\u001b[0;34m,\u001b[0m \u001b[0;36m10240\u001b[0m\u001b[0;34m)\u001b[0m\u001b[0;34m\u001b[0m\u001b[0;34m\u001b[0m\u001b[0m\n\u001b[0;32m-> 1480\u001b[0;31m             \u001b[0mdata_bytes\u001b[0m \u001b[0;34m=\u001b[0m \u001b[0mthesocket\u001b[0m\u001b[0;34m.\u001b[0m\u001b[0mrecv\u001b[0m\u001b[0;34m(\u001b[0m\u001b[0mchunk\u001b[0m\u001b[0;34m)\u001b[0m\u001b[0;34m\u001b[0m\u001b[0;34m\u001b[0m\u001b[0m\n\u001b[0m\u001b[1;32m   1481\u001b[0m \u001b[0;34m\u001b[0m\u001b[0m\n\u001b[1;32m   1482\u001b[0m             \u001b[0;32mif\u001b[0m \u001b[0mlen\u001b[0m\u001b[0;34m(\u001b[0m\u001b[0mdata_bytes\u001b[0m\u001b[0;34m)\u001b[0m \u001b[0;34m==\u001b[0m \u001b[0;36m0\u001b[0m\u001b[0;34m:\u001b[0m\u001b[0;34m\u001b[0m\u001b[0;34m\u001b[0m\u001b[0m\n",
      "\u001b[0;31mKeyboardInterrupt\u001b[0m: "
     ]
    }
   ],
   "source": [
    "import numpy as np\n",
    "from amuse.units import nbody_system\n",
    "from amuse.community.ph4.interface import ph4\n",
    "    \n",
    "# Initialzation\n",
    "r_au = 1.0 | units.au\n",
    "\n",
    "converter=nbody_system.nbody_to_si(sun_and_planets.mass.sum(), r_au)\n",
    "\n",
    "gravity = ph4(converter)\n",
    "gravity.particles.add_particles(sun_and_planets)\n",
    "\n",
    "\n",
    "# A channel is a 'permanent' connection to a code's particle\n",
    "# set. Multiple calls to a code's particle set need to set up\n",
    "# a new connection every time; with a channel, we can copy\n",
    "# information back without opening a new connection.\n",
    "# This does not automatically update bodies! See below\n",
    "channel = gravity.particles.new_channel_to(sun_and_planets)\n",
    "\n",
    "\n",
    "times = np.arange(0, 45000, 5) | units.yr\n",
    "positionsun     = [] | units.au\n",
    "positionnemesis = [] | units.au\n",
    "for i, time in enumerate(times):\n",
    "    gravity.evolve_model(time)\n",
    "    channel.copy() # Copy from gravity.particles to bodies\n",
    "    \n",
    "    if not time.value_in(units.yr)%1000.0:\n",
    "        print(\"cluster at Time=\", time.in_(units.yr))\n",
    "        positionsun.append(sun_and_planets[sun_and_planets.name=='SUN'].position[0])\n",
    "        positionnemesis.append(sun_and_planets[sun_and_planets.name=='Nemesis'].position[0])\n",
    "    '''\n",
    "    b = bodies.get_binaries()\n",
    "    if(len(b)>0):\n",
    "        print(f\"Repeat{n+1}, first of binaries found:\", time.in_(units.Myr))\n",
    "        first_binary_timescale_new[n] = time.in_(units.Myr)\n",
    "        for binary in b:\n",
    "            binary_mass_new = numpy.append(binary_mass_new, \n",
    "                                           [binary[0].mass.value_in(units.MSun), \n",
    "                                            binary[1].mass.value_in(units.MSun)])\n",
    "        break\n",
    "    '''\n",
    "#binary_mass_new = binary_mass_new | units.MSun"
   ]
  },
  {
   "cell_type": "code",
   "execution_count": null,
   "metadata": {},
   "outputs": [],
   "source": [
    "(2*np.pi*((95000 | units.au)**3 / constants.G /(msun+mnemesis)).sqrt()).in_(units.Myr)"
   ]
  },
  {
   "cell_type": "code",
   "execution_count": 8,
   "metadata": {},
   "outputs": [
    {
     "data": {
      "text/plain": [
       "<matplotlib.legend.Legend at 0x7feb15b193c0>"
      ]
     },
     "execution_count": 8,
     "metadata": {},
     "output_type": "execute_result"
    },
    {
     "data": {
      "image/png": "[encoded data removed]",
      "text/plain": [
       "<Figure size 432x288 with 1 Axes>"
      ]
     },
     "metadata": {
      "needs_background": "light"
     },
     "output_type": "display_data"
    }
   ],
   "source": [
    "import matplotlib.pyplot as plt\n",
    "\n",
    "fig, ax = plt.subplots()\n",
    "\n",
    "ax.scatter(positionsun[:,0].value_in(units.au), \n",
    "           positionsun[:,1].value_in(units.au), label='Sun')\n",
    "\n",
    "ax.set_xlabel('x [au]', fontsize=15)\n",
    "ax.set_ylabel('y [au]', fontsize=15)\n",
    "\n",
    "plt.legend()"
   ]
  },
  {
   "cell_type": "code",
   "execution_count": 9,
   "metadata": {},
   "outputs": [
    {
     "data": {
      "text/plain": [
       "<matplotlib.legend.Legend at 0x7feaeb313220>"
      ]
     },
     "execution_count": 9,
     "metadata": {},
     "output_type": "execute_result"
    },
    {
     "data": {
      "image/png": "[encoded data removed]",
      "text/plain": [
       "<Figure size 432x288 with 1 Axes>"
      ]
     },
     "metadata": {
      "needs_background": "light"
     },
     "output_type": "display_data"
    }
   ],
   "source": [
    "import matplotlib.pyplot as plt\n",
    "\n",
    "fig, ax = plt.subplots()\n",
    "\n",
    "ax.scatter(positionsun[:,0].value_in(units.au), \n",
    "           positionsun[:,2].value_in(units.au), label='Sun')\n",
    "\n",
    "ax.set_xlabel('x [au]', fontsize=15)\n",
    "ax.set_ylabel('z [au]', fontsize=15)\n",
    "\n",
    "plt.legend()"
   ]
  },
  {
   "cell_type": "code",
   "execution_count": 10,
   "metadata": {},
   "outputs": [
    {
     "data": {
      "text/plain": [
       "<matplotlib.legend.Legend at 0x7feaeb393130>"
      ]
     },
     "execution_count": 10,
     "metadata": {},
     "output_type": "execute_result"
    },
    {
     "data": {
      "image/png": "[encoded data removed]",
      "text/plain": [
       "<Figure size 432x288 with 1 Axes>"
      ]
     },
     "metadata": {
      "needs_background": "light"
     },
     "output_type": "display_data"
    }
   ],
   "source": [
    "import matplotlib.pyplot as plt\n",
    "\n",
    "fig, ax = plt.subplots()\n",
    "\n",
    "ax.scatter(positionsun[:,1].value_in(units.au), \n",
    "           positionsun[:,2].value_in(units.au), label='Sun')\n",
    "\n",
    "ax.set_xlabel('y [au]', fontsize=15)\n",
    "ax.set_ylabel('z [au]', fontsize=15)\n",
    "\n",
    "plt.legend()"
   ]
  },
  {
   "cell_type": "code",
   "execution_count": null,
   "metadata": {},
   "outputs": [],
   "source": []
  }
 ],
 "metadata": {
  "kernelspec": {
   "display_name": "Python 3",
   "language": "python",
   "name": "python3"
  },
  "language_info": {
   "codemirror_mode": {
    "name": "ipython",
    "version": 3
   },
   "file_extension": ".py",
   "mimetype": "text/x-python",
   "name": "python",
   "nbconvert_exporter": "python",
   "pygments_lexer": "ipython3",
   "version": "3.10.7"
  }
 },
 "nbformat": 4,
 "nbformat_minor": 4
}
